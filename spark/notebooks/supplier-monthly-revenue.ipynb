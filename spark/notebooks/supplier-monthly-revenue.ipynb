{
 "cells": [
  {
   "cell_type": "markdown",
   "id": "dc1c14d8",
   "metadata": {},
   "source": [
    "## Init Spark Session"
   ]
  },
  {
   "cell_type": "code",
   "execution_count": 1,
   "id": "bdb8b35d",
   "metadata": {},
   "outputs": [
    {
     "name": "stderr",
     "output_type": "stream",
     "text": [
      "WARNING: An illegal reflective access operation has occurred\n",
      "WARNING: Illegal reflective access by org.apache.spark.unsafe.Platform (file:/usr/local/spark-3.1.2-bin-hadoop3.2/jars/spark-unsafe_2.12-3.1.2.jar) to constructor java.nio.DirectByteBuffer(long,int)\n",
      "WARNING: Please consider reporting this to the maintainers of org.apache.spark.unsafe.Platform\n",
      "WARNING: Use --illegal-access=warn to enable warnings of further illegal reflective access operations\n",
      "WARNING: All illegal access operations will be denied in a future release\n",
      "24/06/22 18:36:58 WARN NativeCodeLoader: Unable to load native-hadoop library for your platform... using builtin-java classes where applicable\n",
      "Using Spark's default log4j profile: org/apache/spark/log4j-defaults.properties\n",
      "Setting default log level to \"WARN\".\n",
      "To adjust logging level use sc.setLogLevel(newLevel). For SparkR, use setLogLevel(newLevel).\n",
      "24/06/22 18:37:00 WARN Utils: Service 'SparkUI' could not bind on port 4040. Attempting port 4041.\n",
      "24/06/22 18:37:00 WARN Utils: Service 'SparkUI' could not bind on port 4041. Attempting port 4042.\n",
      "24/06/22 18:37:00 WARN Utils: Service 'SparkUI' could not bind on port 4042. Attempting port 4043.\n"
     ]
    }
   ],
   "source": [
    "import os\n",
    "\n",
    "from pyspark.sql import SparkSession\n",
    "from pyspark.sql import functions as F\n",
    "from pyspark.sql.window import Window\n",
    "\n",
    "# Check if the JDBC driver exists\n",
    "jdbc_driver_path = \"/home/user/work/jars/postgresql-42.7.3.jar\"\n",
    "if not os.path.isfile(jdbc_driver_path):\n",
    "    raise FileNotFoundError(f\"The JDBC driver was not found at the specified path: {jdbc_driver_path}\")\n",
    "\n",
    "# Initialize the Spark session\n",
    "spark = SparkSession.builder \\\n",
    "    .appName(\"PostgreSQL to PySpark\") \\\n",
    "    .config(\"spark.jars\", jdbc_driver_path) \\\n",
    "    .getOrCreate()\n",
    "\n",
    "# PostgreSQL connection properties\n",
    "jdbc_url = \"jdbc:postgresql://postgres-staging:5432/staging_db\"\n",
    "connection_properties = {\n",
    "    \"user\": \"admin\",\n",
    "    \"password\": \"admin\",\n",
    "    \"driver\": \"org.postgresql.Driver\"\n",
    "}"
   ]
  },
  {
   "cell_type": "markdown",
   "id": "52f2df69",
   "metadata": {},
   "source": [
    "## Supplier Monthly Revenue"
   ]
  },
  {
   "cell_type": "code",
   "execution_count": 2,
   "id": "596d87d4",
   "metadata": {},
   "outputs": [
    {
     "name": "stderr",
     "output_type": "stream",
     "text": [
      "[Stage 4:=========================================>             (152 + 8) / 200]\r"
     ]
    },
    {
     "name": "stdout",
     "output_type": "stream",
     "text": [
      "+----------+----------+--------------------+-------------------+\n",
      "|     month|supplierID|        supplierName|total_gross_revenue|\n",
      "+----------+----------+--------------------+-------------------+\n",
      "|1996-07-01|        28|        Gai pâturage|        5026.000000|\n",
      "|1996-07-01|        24|          G'day Mate|        3350.400000|\n",
      "|1996-07-01|         8|Specialty Biscuit...|        2702.400000|\n",
      "|1996-07-01|         7|        Pavlova Ltd.|        2477.000000|\n",
      "|1996-07-01|         2|New Orleans Cajun...|        1597.400000|\n",
      "|1996-07-01|         1|      Exotic Liquids|        1444.000000|\n",
      "|1996-07-01|        12|Plutzer Lebensmit...|        1270.800000|\n",
      "|1996-07-01|        14|Formaggi Fortini ...|        1136.280000|\n",
      "|1996-07-01|        19|New England Seafo...|        1068.025000|\n",
      "|1996-07-01|        26|Pasta Buttini s.r.l.|        1063.100000|\n",
      "|1996-07-01|        13|Nord-Ost-Fisch Ha...|         931.500000|\n",
      "|1996-07-01|        11|Heli Süßwaren Gmb...|         877.500000|\n",
      "|1996-07-01|        23|           Karkki Oy|         823.600000|\n",
      "|1996-07-01|        18|Aux joyeux ecclés...|         691.200000|\n",
      "|1996-07-01|         5|Cooperativa de Qu...|         514.560000|\n",
      "|1996-07-01|        29|    Forêts d'érables|         443.250000|\n",
      "|1996-07-01|        17|   Svensk Sjöföda AB|         400.800000|\n",
      "|1996-07-01|         4|       Tokyo Traders|         384.000000|\n",
      "|1996-07-01|         3|Grandma Kelly's H...|         360.000000|\n",
      "|1996-07-01|        25|           Ma Maison|         342.720000|\n",
      "|1996-07-01|        16|   Bigfoot Breweries|         288.000000|\n",
      "|1996-07-01|         6|            Mayumi's|         167.400000|\n",
      "|1996-07-01|        15|     Norske Meierier|         161.500000|\n",
      "|1996-07-01|        10|Refrescos America...|         146.700000|\n",
      "|1996-07-01|        20|        Leka Trading|          98.000000|\n",
      "|1996-07-01|         9|    PB Knäckebröd AB|          95.760000|\n",
      "|1996-08-01|        28|        Gai pâturage|        2842.000000|\n",
      "|1996-08-01|        12|Plutzer Lebensmit...|        2816.800000|\n",
      "|1996-08-01|        20|        Leka Trading|        2380.300000|\n",
      "|1996-08-01|         7|        Pavlova Ltd.|        2347.900000|\n",
      "|1996-08-01|        29|    Forêts d'érables|        2048.800000|\n",
      "|1996-08-01|         8|Specialty Biscuit...|        1850.500000|\n",
      "|1996-08-01|        16|   Bigfoot Breweries|        1763.600000|\n",
      "|1996-08-01|        14|Formaggi Fortini ...|        1487.700000|\n",
      "|1996-08-01|        19|New England Seafo...|        1308.300000|\n",
      "|1996-08-01|         1|      Exotic Liquids|        1017.600000|\n",
      "|1996-08-01|         4|       Tokyo Traders|         937.440000|\n",
      "|1996-08-01|        24|          G'day Mate|         830.880000|\n",
      "|1996-08-01|        17|   Svensk Sjöföda AB|         756.000000|\n",
      "|1996-08-01|        23|           Karkki Oy|         691.440000|\n",
      "|1996-08-01|        25|           Ma Maison|         437.100000|\n",
      "|1996-08-01|        15|     Norske Meierier|         432.000000|\n",
      "|1996-08-01|        11|Heli Süßwaren Gmb...|         394.875000|\n",
      "|1996-08-01|         6|            Mayumi's|         382.400000|\n",
      "|1996-08-01|         2|New Orleans Cajun...|         340.000000|\n",
      "|1996-08-01|        10|Refrescos America...|         141.840000|\n",
      "|1996-08-01|        13|Nord-Ost-Fisch Ha...|         124.200000|\n",
      "|1996-08-01|        21|          Lyngbysild|         122.400000|\n",
      "|1996-08-01|        26|Pasta Buttini s.r.l.|          31.200000|\n",
      "|1996-09-01|        29|    Forêts d'érables|        4826.500000|\n",
      "+----------+----------+--------------------+-------------------+\n",
      "only showing top 50 rows\n",
      "\n"
     ]
    },
    {
     "name": "stderr",
     "output_type": "stream",
     "text": [
      "\r",
      "                                                                                \r"
     ]
    }
   ],
   "source": [
    "# Load necessary tables from JDBC source\n",
    "order_details = spark.read.jdbc(url=jdbc_url, table=\"order_details\", properties=connection_properties)\n",
    "orders = spark.read.jdbc(url=jdbc_url, table=\"orders\", properties=connection_properties)\n",
    "products = spark.read.jdbc(url=jdbc_url, table=\"products\", properties=connection_properties)\n",
    "suppliers = spark.read.jdbc(url=jdbc_url, table=\"suppliers\", properties=connection_properties)\n",
    "\n",
    "# Perform the equivalent operations in PySpark\n",
    "order_details = order_details.alias(\"od\")\n",
    "orders = orders.alias(\"o\")\n",
    "products = products.alias(\"p\")\n",
    "suppliers = suppliers.alias(\"s\")\n",
    "\n",
    "# Join to get order_details\n",
    "order_details_join = orders.join(order_details, orders[\"orderID\"] == order_details[\"orderID\"], \"inner\")\n",
    "\n",
    "# Join to get product_revenue\n",
    "product_revenue = order_details_join.join(products, order_details_join[\"productID\"] == products[\"productID\"], \"inner\") \\\n",
    "    .select(\n",
    "        F.date_trunc(\"month\", order_details_join[\"orderDate\"]).alias(\"orderMonth\"),\n",
    "        products[\"supplierID\"],\n",
    "        order_details_join[\"productID\"],\n",
    "        order_details_join[\"unitPrice\"],\n",
    "        order_details_join[\"quantity\"],\n",
    "        order_details_join[\"discount\"],\n",
    "        ((order_details_join[\"unitPrice\"] - (order_details_join[\"unitPrice\"] * order_details_join[\"discount\"])) * order_details_join[\"quantity\"]).alias(\"gross_revenue\")\n",
    "    )\n",
    "\n",
    "# Aggregate to get supplier_monthly_revenue\n",
    "supplier_monthly_revenue = product_revenue.groupBy(\n",
    "    F.date_format(F.date_trunc(\"month\", product_revenue[\"orderMonth\"]), \"yyyy-MM-dd\").alias(\"month\"),\n",
    "    product_revenue[\"supplierID\"]\n",
    ").agg(\n",
    "    F.sum(product_revenue[\"gross_revenue\"]).alias(\"total_gross_revenue\")\n",
    ")\n",
    "\n",
    "# Join with suppliers to get final result\n",
    "final_result = supplier_monthly_revenue.join(\n",
    "    suppliers, supplier_monthly_revenue[\"supplierID\"] == suppliers[\"supplierID\"], \"inner\"\n",
    ").select(\n",
    "    supplier_monthly_revenue[\"month\"],\n",
    "    suppliers[\"supplierID\"],\n",
    "    suppliers[\"companyName\"].alias(\"supplierName\"),\n",
    "    supplier_monthly_revenue[\"total_gross_revenue\"]\n",
    ")\n",
    "\n",
    "# Show or save the final result as needed\n",
    "final_result.orderBy(F.asc(\"month\"), F.desc(\"total_gross_revenue\")).show(50)\n"
   ]
  }
 ],
 "metadata": {
  "kernelspec": {
   "display_name": "Python 3 (ipykernel)",
   "language": "python",
   "name": "python3"
  },
  "language_info": {
   "codemirror_mode": {
    "name": "ipython",
    "version": 3
   },
   "file_extension": ".py",
   "mimetype": "text/x-python",
   "name": "python",
   "nbconvert_exporter": "python",
   "pygments_lexer": "ipython3",
   "version": "3.9.7"
  }
 },
 "nbformat": 4,
 "nbformat_minor": 5
}
