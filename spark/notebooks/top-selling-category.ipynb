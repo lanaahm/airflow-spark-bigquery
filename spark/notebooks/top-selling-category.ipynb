{
 "cells": [
  {
   "cell_type": "markdown",
   "id": "c11eafdc",
   "metadata": {},
   "source": [
    "## Init Spark Session"
   ]
  },
  {
   "cell_type": "code",
   "execution_count": 6,
   "id": "05d00202",
   "metadata": {},
   "outputs": [],
   "source": [
    "import os\n",
    "\n",
    "from pyspark.sql import SparkSession\n",
    "from pyspark.sql import functions as F\n",
    "from pyspark.sql.window import Window\n",
    "\n",
    "# Check if the JDBC driver exists\n",
    "jdbc_driver_path = \"/home/user/work/jars/postgresql-42.7.3.jar\"\n",
    "if not os.path.isfile(jdbc_driver_path):\n",
    "    raise FileNotFoundError(f\"The JDBC driver was not found at the specified path: {jdbc_driver_path}\")\n",
    "\n",
    "# Initialize the Spark session\n",
    "spark = SparkSession.builder \\\n",
    "    .appName(\"PostgreSQL to PySpark\") \\\n",
    "    .config(\"spark.jars\", jdbc_driver_path) \\\n",
    "    .getOrCreate()\n",
    "\n",
    "# PostgreSQL connection properties\n",
    "jdbc_url = \"jdbc:postgresql://postgres-staging:5432/staging_db\"\n",
    "connection_properties = {\n",
    "    \"user\": \"admin\",\n",
    "    \"password\": \"admin\",\n",
    "    \"driver\": \"org.postgresql.Driver\"\n",
    "}"
   ]
  },
  {
   "cell_type": "markdown",
   "id": "1cdc719c",
   "metadata": {},
   "source": [
    "## Top Selling Category"
   ]
  },
  {
   "cell_type": "code",
   "execution_count": null,
   "id": "5d29373b",
   "metadata": {},
   "outputs": [],
   "source": [
    "# Load necessary tables (assuming they are already loaded as shown above)\n",
    "order_details = spark.read.jdbc(url=jdbc_url, table=\"order_details\", properties=connection_properties)\n",
    "orders = spark.read.jdbc(url=jdbc_url, table=\"orders\", properties=connection_properties)\n",
    "products = spark.read.jdbc(url=jdbc_url, table=\"products\", properties=connection_properties)\n",
    "categories = spark.read.jdbc(url=jdbc_url, table=\"categories\", properties=connection_properties)\n",
    "\n",
    "# Perform the equivalent operations in PySpark\n",
    "product_revenue = orders.join(order_details, orders[\"orderID\"] == order_details[\"orderID\"], \"inner\") \\\n",
    "    .join(products, order_details[\"productID\"] == products[\"productID\"], \"inner\") \\\n",
    "    .select(\n",
    "        F.date_trunc(\"month\", orders[\"orderDate\"]).alias(\"orderMonth\"),\n",
    "        products[\"categoryID\"],\n",
    "        order_details[\"productID\"],\n",
    "        order_details[\"unitPrice\"],\n",
    "        order_details[\"quantity\"],\n",
    "        order_details[\"discount\"],\n",
    "        ((order_details[\"unitPrice\"] - (order_details[\"unitPrice\"] * order_details[\"discount\"])) * order_details[\"quantity\"]).alias(\"gross_revenue\")\n",
    "    )\n",
    "\n",
    "# Aggregate to get category_monthly_revenue\n",
    "category_monthly_revenue = product_revenue.groupBy(\n",
    "    F.date_format(F.date_trunc(\"month\", product_revenue[\"orderMonth\"]), \"yyyy-MM-dd\").alias(\"month\"),\n",
    "    product_revenue[\"categoryID\"]\n",
    ").agg(\n",
    "    F.sum(product_revenue[\"gross_revenue\"]).alias(\"total_gross_revenue\")\n",
    ")\n",
    "\n",
    "# Rank categories based on total gross revenue\n",
    "ranked_categories = category_monthly_revenue.withColumn(\n",
    "    \"category_rank\",\n",
    "    F.rank().over(Window.partitionBy(\"month\").orderBy(F.desc(\"total_gross_revenue\")))\n",
    ").filter(\n",
    "    F.col(\"category_rank\") == 1\n",
    ")\n",
    "\n",
    "# Join with categories to get final result\n",
    "final_result = ranked_categories.join(\n",
    "    categories, ranked_categories[\"categoryID\"] == categories[\"categoryID\"], \"inner\"\n",
    ").select(\n",
    "    ranked_categories[\"month\"],\n",
    "    ranked_categories[\"categoryID\"],\n",
    "    categories[\"categoryName\"],\n",
    "    ranked_categories[\"total_gross_revenue\"]\n",
    ")\n",
    "\n",
    "# Show or save the final result as needed\n",
    "final_result.orderBy(F.asc(\"month\"), F.desc(\"total_gross_revenue\")).show()\n"
   ]
  }
 ],
 "metadata": {
  "kernelspec": {
   "display_name": "Python 3 (ipykernel)",
   "language": "python",
   "name": "python3"
  },
  "language_info": {
   "codemirror_mode": {
    "name": "ipython",
    "version": 3
   },
   "file_extension": ".py",
   "mimetype": "text/x-python",
   "name": "python",
   "nbconvert_exporter": "python",
   "pygments_lexer": "ipython3",
   "version": "3.9.7"
  }
 },
 "nbformat": 4,
 "nbformat_minor": 5
}
